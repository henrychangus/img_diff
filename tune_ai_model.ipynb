{
 "cells": [
  {
   "cell_type": "code",
   "execution_count": 4,
   "id": "6fc7b235-717d-4e69-943d-f86e59808dfd",
   "metadata": {},
   "outputs": [
    {
     "name": "stderr",
     "output_type": "stream",
     "text": [
      "2024-12-30 21:43:19,483 - ERROR - Error during fine-tuning process: \n",
      "\n",
      "You tried to access openai.File, but this is no longer supported in openai>=1.0.0 - see the README at https://github.com/openai/openai-python for the API.\n",
      "\n",
      "You can run `openai migrate` to automatically upgrade your codebase to use the 1.0.0 interface. \n",
      "\n",
      "Alternatively, you can pin your installation to the old version, e.g. `pip install openai==0.28`\n",
      "\n",
      "A detailed migration guide is available here: https://github.com/openai/openai-python/discussions/742\n",
      "\n"
     ]
    },
    {
     "name": "stdout",
     "output_type": "stream",
     "text": [
      "Current Working Directory: /Users/henrychang/sys_two_ai\n"
     ]
    }
   ],
   "source": [
    "'''\n",
    "Use a fine_tune_data.jsonl file as the training dataset to fine-tune a generative AI model. The fine-tuned model can be used for data transformation and creating new features.\n",
    "\n",
    "Each line in the JSONL file represents a JSON object with prompt and completion keys. Here’s how it would look:\n",
    "\n",
    "{\"prompt\": \"Log entry: Suspicious login attempt\\nClassification: suspicious\\nAnomaly score: 0.9\\nIs this a threat?\", \"completion\": \" Threat\"}\n",
    "{\"prompt\": \"Log entry: Normal login\\nClassification: normal\\nAnomaly score: 0.1\\nIs this a threat?\", \"completion\": \" Normal\"}\n",
    "{\"prompt\": \"Log entry: Anomaly detected\\nClassification: anomaly\\nAnomaly score: 0.8\\nIs this a threat?\", \"completion\": \" Threat\"}\n",
    "{\"prompt\": \"Log entry: Unexpected file access\\nClassification: suspicious\\nAnomaly score: 0.85\\nIs this a threat?\", \"completion\": \" Threat\"}\n",
    "{\"prompt\": \"Log entry: Routine system check\\nClassification: normal\\nAnomaly score: 0.05\\nIs this a threat?\", \"completion\": \" Normal\"}\n",
    "'''\n",
    "\n",
    "import openai\n",
    "import json\n",
    "import time\n",
    "import os\n",
    "import logging\n",
    "\n",
    "# Set up logging configuration\n",
    "logging.basicConfig(level=logging.INFO, format='%(asctime)s - %(levelname)s - %(message)s')\n",
    "logger = logging.getLogger(__name__)\n",
    "\n",
    "# Set the desired working directory \n",
    "desired_directory = '/Users/henrychang/sys_two_ai' \n",
    "os.chdir(desired_directory) \n",
    "# Verify the change \n",
    "current_directory = os.getcwd() \n",
    "print(\"Current Working Directory:\", current_directory)\n",
    "\n",
    "# Set your OpenAI API key\n",
    "openai.api_key = 'THE_API_KEY'\n",
    "\n",
    "try:\n",
    "    # Upload the dataset\n",
    "    response = openai.File.create(file=open(current_directory + '/input/fine_tune_data.jsonl'), purpose='fine-tune')\n",
    "    file_id = response['id']\n",
    "    logger.info(f\"Dataset uploaded successfully with file ID: {file_id}\")\n",
    "\n",
    "    # Create a fine-tuning job\n",
    "    fine_tune_response = openai.FineTune.create(\n",
    "        training_file=file_id,\n",
    "        model='gpt-3.5-turbo'\n",
    "    )\n",
    "    fine_tune_id = fine_tune_response['id']\n",
    "    status = fine_tune_response['status']\n",
    "    logger.info(f\"Fine-tuning job created with ID: {fine_tune_id}, Status: {status}\")\n",
    "\n",
    "    # Periodically check the status\n",
    "    while status not in ['succeeded', 'failed', 'cancelled']:\n",
    "        time.sleep(60)  # Wait a minute before checking again\n",
    "        fine_tune_response = openai.FineTune.retrieve(id=fine_tune_id)\n",
    "        status = fine_tune_response['status']\n",
    "        logger.info(f\"Fine-tuning status: {status}\")\n",
    "\n",
    "    if status == 'succeeded':\n",
    "        with open(current_directory + '/output/fine_tune_id.txt', 'w') as f:\n",
    "            f.write(fine_tune_id)\n",
    "        logger.info(\"Fine-tuning completed successfully and ID saved.\")\n",
    "    else:\n",
    "        logger.error(f\"Fine-tuning did not succeed. Final status: {status}\")\n",
    "\n",
    "except Exception as e:\n",
    "    logger.error(f\"Error during fine-tuning process: {e}\")\n"
   ]
  },
  {
   "cell_type": "code",
   "execution_count": null,
   "id": "d472e9bf-f728-4d85-9b6c-aea80e9e71e7",
   "metadata": {},
   "outputs": [],
   "source": []
  }
 ],
 "metadata": {
  "kernelspec": {
   "display_name": "Python 3 (ipykernel)",
   "language": "python",
   "name": "python3"
  },
  "language_info": {
   "codemirror_mode": {
    "name": "ipython",
    "version": 3
   },
   "file_extension": ".py",
   "mimetype": "text/x-python",
   "name": "python",
   "nbconvert_exporter": "python",
   "pygments_lexer": "ipython3",
   "version": "3.9.6"
  }
 },
 "nbformat": 4,
 "nbformat_minor": 5
}
